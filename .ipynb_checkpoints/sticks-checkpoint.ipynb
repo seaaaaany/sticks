{
 "cells": [
  {
   "cell_type": "code",
   "execution_count": 1,
   "id": "d39ed443",
   "metadata": {},
   "outputs": [],
   "source": [
    "# dependencies\n",
    "import pandas as pd\n",
    "import numpy as np\n",
    "import matplotlib.pyplot as plt\n",
    "%matplotlib inline\n",
    "\n",
    "import scipy\n",
    "import sklearn\n",
    "import os as os\n",
    "\n",
    "import seaborn as sn\n",
    "import matplotlib.pyplot as plt\n",
    "\n",
    "# regression\n",
    "from statsmodels.api import OLS\n",
    "import statsmodels.formula.api as smf\n",
    "from sklearn.model_selection import train_test_split \n",
    "from sklearn.linear_model import LogisticRegression\n",
    "from sklearn.metrics import classification_report, confusion_matrix\n",
    "\n",
    "from sklearn.preprocessing import scale\n",
    "from sklearn.decomposition import PCA\n",
    "from sklearn.cluster import KMeans\n",
    "\n",
    "from scipy.cluster import hierarchy\n",
    "\n",
    "import math"
   ]
  },
  {
   "cell_type": "code",
   "execution_count": 2,
   "id": "ae282ea0",
   "metadata": {},
   "outputs": [],
   "source": [
    "# load data\n",
    "sticks = pd.read_csv('Survey Data.csv')"
   ]
  },
  {
   "cell_type": "code",
   "execution_count": 3,
   "id": "9a1fb593",
   "metadata": {},
   "outputs": [
    {
     "data": {
      "text/html": [
       "<div>\n",
       "<style scoped>\n",
       "    .dataframe tbody tr th:only-of-type {\n",
       "        vertical-align: middle;\n",
       "    }\n",
       "\n",
       "    .dataframe tbody tr th {\n",
       "        vertical-align: top;\n",
       "    }\n",
       "\n",
       "    .dataframe thead th {\n",
       "        text-align: right;\n",
       "    }\n",
       "</style>\n",
       "<table border=\"1\" class=\"dataframe\">\n",
       "  <thead>\n",
       "    <tr style=\"text-align: right;\">\n",
       "      <th></th>\n",
       "      <th>Obs</th>\n",
       "      <th>Customer</th>\n",
       "      <th>I tend to plan things very carefully.</th>\n",
       "      <th>I sometimes have trouble controlling my spending.</th>\n",
       "      <th>I think it is important to purchase products that are made locally.</th>\n",
       "      <th>I carefully consider the health benefits of what I eat.</th>\n",
       "    </tr>\n",
       "  </thead>\n",
       "  <tbody>\n",
       "    <tr>\n",
       "      <th>0</th>\n",
       "      <td>2</td>\n",
       "      <td>0</td>\n",
       "      <td>1</td>\n",
       "      <td>2</td>\n",
       "      <td>3.0</td>\n",
       "      <td>2</td>\n",
       "    </tr>\n",
       "    <tr>\n",
       "      <th>1</th>\n",
       "      <td>3</td>\n",
       "      <td>0</td>\n",
       "      <td>1</td>\n",
       "      <td>3</td>\n",
       "      <td>3.0</td>\n",
       "      <td>2</td>\n",
       "    </tr>\n",
       "    <tr>\n",
       "      <th>2</th>\n",
       "      <td>4</td>\n",
       "      <td>0</td>\n",
       "      <td>2</td>\n",
       "      <td>4</td>\n",
       "      <td>3.0</td>\n",
       "      <td>2</td>\n",
       "    </tr>\n",
       "    <tr>\n",
       "      <th>3</th>\n",
       "      <td>5</td>\n",
       "      <td>0</td>\n",
       "      <td>2</td>\n",
       "      <td>4</td>\n",
       "      <td>1.0</td>\n",
       "      <td>2</td>\n",
       "    </tr>\n",
       "    <tr>\n",
       "      <th>4</th>\n",
       "      <td>10</td>\n",
       "      <td>0</td>\n",
       "      <td>2</td>\n",
       "      <td>4</td>\n",
       "      <td>2.0</td>\n",
       "      <td>3</td>\n",
       "    </tr>\n",
       "  </tbody>\n",
       "</table>\n",
       "</div>"
      ],
      "text/plain": [
       "   Obs  Customer  I tend to plan things very carefully.  \\\n",
       "0    2         0                                      1   \n",
       "1    3         0                                      1   \n",
       "2    4         0                                      2   \n",
       "3    5         0                                      2   \n",
       "4   10         0                                      2   \n",
       "\n",
       "   I sometimes have trouble controlling my spending.  \\\n",
       "0                                                  2   \n",
       "1                                                  3   \n",
       "2                                                  4   \n",
       "3                                                  4   \n",
       "4                                                  4   \n",
       "\n",
       "   I think it is important to purchase products that are made locally.  \\\n",
       "0                                                3.0                     \n",
       "1                                                3.0                     \n",
       "2                                                3.0                     \n",
       "3                                                1.0                     \n",
       "4                                                2.0                     \n",
       "\n",
       "   I carefully consider the health benefits of what I eat.  \n",
       "0                                                  2        \n",
       "1                                                  2        \n",
       "2                                                  2        \n",
       "3                                                  2        \n",
       "4                                                  3        "
      ]
     },
     "execution_count": 3,
     "metadata": {},
     "output_type": "execute_result"
    }
   ],
   "source": [
    "sticks.head()"
   ]
  },
  {
   "cell_type": "code",
   "execution_count": 4,
   "id": "afc4a65e",
   "metadata": {},
   "outputs": [
    {
     "data": {
      "text/html": [
       "<div>\n",
       "<style scoped>\n",
       "    .dataframe tbody tr th:only-of-type {\n",
       "        vertical-align: middle;\n",
       "    }\n",
       "\n",
       "    .dataframe tbody tr th {\n",
       "        vertical-align: top;\n",
       "    }\n",
       "\n",
       "    .dataframe thead th {\n",
       "        text-align: right;\n",
       "    }\n",
       "</style>\n",
       "<table border=\"1\" class=\"dataframe\">\n",
       "  <thead>\n",
       "    <tr style=\"text-align: right;\">\n",
       "      <th></th>\n",
       "      <th>Obs</th>\n",
       "      <th>Customer</th>\n",
       "      <th>I tend to plan things very carefully.</th>\n",
       "      <th>I sometimes have trouble controlling my spending.</th>\n",
       "      <th>I think it is important to purchase products that are made locally.</th>\n",
       "      <th>I carefully consider the health benefits of what I eat.</th>\n",
       "    </tr>\n",
       "  </thead>\n",
       "  <tbody>\n",
       "    <tr>\n",
       "      <th>count</th>\n",
       "      <td>395.000000</td>\n",
       "      <td>395.000000</td>\n",
       "      <td>395.000000</td>\n",
       "      <td>395.000000</td>\n",
       "      <td>393.000000</td>\n",
       "      <td>395.000000</td>\n",
       "    </tr>\n",
       "    <tr>\n",
       "      <th>mean</th>\n",
       "      <td>259.539241</td>\n",
       "      <td>0.513924</td>\n",
       "      <td>1.822785</td>\n",
       "      <td>2.868354</td>\n",
       "      <td>1.893130</td>\n",
       "      <td>1.820253</td>\n",
       "    </tr>\n",
       "    <tr>\n",
       "      <th>std</th>\n",
       "      <td>136.864843</td>\n",
       "      <td>0.500440</td>\n",
       "      <td>0.711749</td>\n",
       "      <td>0.946748</td>\n",
       "      <td>0.625788</td>\n",
       "      <td>0.709325</td>\n",
       "    </tr>\n",
       "    <tr>\n",
       "      <th>min</th>\n",
       "      <td>2.000000</td>\n",
       "      <td>0.000000</td>\n",
       "      <td>1.000000</td>\n",
       "      <td>1.000000</td>\n",
       "      <td>1.000000</td>\n",
       "      <td>1.000000</td>\n",
       "    </tr>\n",
       "    <tr>\n",
       "      <th>25%</th>\n",
       "      <td>141.500000</td>\n",
       "      <td>0.000000</td>\n",
       "      <td>1.000000</td>\n",
       "      <td>2.000000</td>\n",
       "      <td>2.000000</td>\n",
       "      <td>1.000000</td>\n",
       "    </tr>\n",
       "    <tr>\n",
       "      <th>50%</th>\n",
       "      <td>273.000000</td>\n",
       "      <td>1.000000</td>\n",
       "      <td>2.000000</td>\n",
       "      <td>3.000000</td>\n",
       "      <td>2.000000</td>\n",
       "      <td>2.000000</td>\n",
       "    </tr>\n",
       "    <tr>\n",
       "      <th>75%</th>\n",
       "      <td>376.500000</td>\n",
       "      <td>1.000000</td>\n",
       "      <td>2.000000</td>\n",
       "      <td>4.000000</td>\n",
       "      <td>2.000000</td>\n",
       "      <td>2.000000</td>\n",
       "    </tr>\n",
       "    <tr>\n",
       "      <th>max</th>\n",
       "      <td>482.000000</td>\n",
       "      <td>1.000000</td>\n",
       "      <td>4.000000</td>\n",
       "      <td>4.000000</td>\n",
       "      <td>4.000000</td>\n",
       "      <td>4.000000</td>\n",
       "    </tr>\n",
       "  </tbody>\n",
       "</table>\n",
       "</div>"
      ],
      "text/plain": [
       "              Obs    Customer  I tend to plan things very carefully.  \\\n",
       "count  395.000000  395.000000                             395.000000   \n",
       "mean   259.539241    0.513924                               1.822785   \n",
       "std    136.864843    0.500440                               0.711749   \n",
       "min      2.000000    0.000000                               1.000000   \n",
       "25%    141.500000    0.000000                               1.000000   \n",
       "50%    273.000000    1.000000                               2.000000   \n",
       "75%    376.500000    1.000000                               2.000000   \n",
       "max    482.000000    1.000000                               4.000000   \n",
       "\n",
       "       I sometimes have trouble controlling my spending.  \\\n",
       "count                                         395.000000   \n",
       "mean                                            2.868354   \n",
       "std                                             0.946748   \n",
       "min                                             1.000000   \n",
       "25%                                             2.000000   \n",
       "50%                                             3.000000   \n",
       "75%                                             4.000000   \n",
       "max                                             4.000000   \n",
       "\n",
       "       I think it is important to purchase products that are made locally.  \\\n",
       "count                                         393.000000                     \n",
       "mean                                            1.893130                     \n",
       "std                                             0.625788                     \n",
       "min                                             1.000000                     \n",
       "25%                                             2.000000                     \n",
       "50%                                             2.000000                     \n",
       "75%                                             2.000000                     \n",
       "max                                             4.000000                     \n",
       "\n",
       "       I carefully consider the health benefits of what I eat.  \n",
       "count                                         395.000000        \n",
       "mean                                            1.820253        \n",
       "std                                             0.709325        \n",
       "min                                             1.000000        \n",
       "25%                                             1.000000        \n",
       "50%                                             2.000000        \n",
       "75%                                             2.000000        \n",
       "max                                             4.000000        "
      ]
     },
     "execution_count": 4,
     "metadata": {},
     "output_type": "execute_result"
    }
   ],
   "source": [
    "sticks.describe()"
   ]
  },
  {
   "cell_type": "code",
   "execution_count": 5,
   "id": "9b13d9f1",
   "metadata": {},
   "outputs": [
    {
     "name": "stdout",
     "output_type": "stream",
     "text": [
      "<class 'pandas.core.frame.DataFrame'>\n",
      "RangeIndex: 395 entries, 0 to 394\n",
      "Data columns (total 6 columns):\n",
      " #   Column                                                               Non-Null Count  Dtype  \n",
      "---  ------                                                               --------------  -----  \n",
      " 0   Obs                                                                  395 non-null    int64  \n",
      " 1   Customer                                                             395 non-null    int64  \n",
      " 2   I tend to plan things very carefully.                                395 non-null    int64  \n",
      " 3   I sometimes have trouble controlling my spending.                    395 non-null    int64  \n",
      " 4   I think it is important to purchase products that are made locally.  393 non-null    float64\n",
      " 5   I carefully consider the health benefits of what I eat.              395 non-null    int64  \n",
      "dtypes: float64(1), int64(5)\n",
      "memory usage: 18.6 KB\n"
     ]
    }
   ],
   "source": [
    "sticks.info()"
   ]
  },
  {
   "cell_type": "code",
   "execution_count": 6,
   "id": "86edc7c0",
   "metadata": {},
   "outputs": [],
   "source": [
    "# remove null value\n",
    "sticks = sticks.dropna()"
   ]
  },
  {
   "cell_type": "code",
   "execution_count": 7,
   "id": "156e3f99",
   "metadata": {},
   "outputs": [],
   "source": [
    "# exclude customer status from the clustering (you should always only feed only columns that contribute to the clusters)\n",
    "sticks_forcluster = sticks.drop(columns=['Obs', 'Customer'])"
   ]
  },
  {
   "cell_type": "code",
   "execution_count": 8,
   "id": "4d0184ac",
   "metadata": {},
   "outputs": [],
   "source": [
    "# run a number of values for K\n",
    "distortions = []\n",
    "K = range(1,10)\n",
    "for k in K:\n",
    "    kmeanModel = KMeans(n_clusters=k)\n",
    "    kmeanModel.fit(sticks_forcluster)\n",
    "    distortions.append(kmeanModel.inertia_)"
   ]
  },
  {
   "cell_type": "code",
   "execution_count": 9,
   "id": "b21c1375",
   "metadata": {},
   "outputs": [
    {
     "data": {
      "image/png": "[encoded data removed]",
      "text/plain": [
       "<Figure size 432x288 with 1 Axes>"
      ]
     },
     "metadata": {
      "needs_background": "light"
     },
     "output_type": "display_data"
    }
   ],
   "source": [
    "# create an elbow plot\n",
    "plt.plot(K, distortions, 'bx-')\n",
    "plt.xlabel('k')\n",
    "plt.ylabel('Clusters')\n",
    "plt.title('The Elbow Method showing the optimal k')\n",
    "plt.show()"
   ]
  },
  {
   "cell_type": "code",
   "execution_count": 10,
   "id": "c0301226",
   "metadata": {},
   "outputs": [
    {
     "data": {
      "text/plain": [
       "KMeans(n_clusters=5)"
      ]
     },
     "execution_count": 10,
     "metadata": {},
     "output_type": "execute_result"
    }
   ],
   "source": [
    "# kmeans results after choosing number of clusters\n",
    "kmeanModel = KMeans(n_clusters=5)\n",
    "kmeanModel.fit(sticks_forcluster)"
   ]
  },
  {
   "cell_type": "code",
   "execution_count": 11,
   "id": "1a3dd777",
   "metadata": {},
   "outputs": [],
   "source": [
    "# assign cluster number\n",
    "sticks_forcluster['k_means']=kmeanModel.predict(sticks_forcluster)"
   ]
  },
  {
   "cell_type": "code",
   "execution_count": 12,
   "id": "19d07d79",
   "metadata": {
    "scrolled": true
   },
   "outputs": [
    {
     "name": "stdout",
     "output_type": "stream",
     "text": [
      "<class 'pandas.core.frame.DataFrame'>\n",
      "Int64Index: 393 entries, 0 to 394\n",
      "Data columns (total 5 columns):\n",
      " #   Column                                                               Non-Null Count  Dtype  \n",
      "---  ------                                                               --------------  -----  \n",
      " 0   I tend to plan things very carefully.                                393 non-null    int64  \n",
      " 1   I sometimes have trouble controlling my spending.                    393 non-null    int64  \n",
      " 2   I think it is important to purchase products that are made locally.  393 non-null    float64\n",
      " 3   I carefully consider the health benefits of what I eat.              393 non-null    int64  \n",
      " 4   k_means                                                              393 non-null    int32  \n",
      "dtypes: float64(1), int32(1), int64(3)\n",
      "memory usage: 16.9 KB\n"
     ]
    },
    {
     "data": {
      "text/html": [
       "<div>\n",
       "<style scoped>\n",
       "    .dataframe tbody tr th:only-of-type {\n",
       "        vertical-align: middle;\n",
       "    }\n",
       "\n",
       "    .dataframe tbody tr th {\n",
       "        vertical-align: top;\n",
       "    }\n",
       "\n",
       "    .dataframe thead th {\n",
       "        text-align: right;\n",
       "    }\n",
       "</style>\n",
       "<table border=\"1\" class=\"dataframe\">\n",
       "  <thead>\n",
       "    <tr style=\"text-align: right;\">\n",
       "      <th></th>\n",
       "      <th>I tend to plan things very carefully.</th>\n",
       "      <th>I sometimes have trouble controlling my spending.</th>\n",
       "      <th>I think it is important to purchase products that are made locally.</th>\n",
       "      <th>I carefully consider the health benefits of what I eat.</th>\n",
       "      <th>k_means</th>\n",
       "    </tr>\n",
       "  </thead>\n",
       "  <tbody>\n",
       "    <tr>\n",
       "      <th>0</th>\n",
       "      <td>1</td>\n",
       "      <td>2</td>\n",
       "      <td>3.0</td>\n",
       "      <td>2</td>\n",
       "      <td>3</td>\n",
       "    </tr>\n",
       "    <tr>\n",
       "      <th>1</th>\n",
       "      <td>1</td>\n",
       "      <td>3</td>\n",
       "      <td>3.0</td>\n",
       "      <td>2</td>\n",
       "      <td>3</td>\n",
       "    </tr>\n",
       "    <tr>\n",
       "      <th>2</th>\n",
       "      <td>2</td>\n",
       "      <td>4</td>\n",
       "      <td>3.0</td>\n",
       "      <td>2</td>\n",
       "      <td>1</td>\n",
       "    </tr>\n",
       "    <tr>\n",
       "      <th>3</th>\n",
       "      <td>2</td>\n",
       "      <td>4</td>\n",
       "      <td>1.0</td>\n",
       "      <td>2</td>\n",
       "      <td>1</td>\n",
       "    </tr>\n",
       "    <tr>\n",
       "      <th>4</th>\n",
       "      <td>2</td>\n",
       "      <td>4</td>\n",
       "      <td>2.0</td>\n",
       "      <td>3</td>\n",
       "      <td>1</td>\n",
       "    </tr>\n",
       "  </tbody>\n",
       "</table>\n",
       "</div>"
      ],
      "text/plain": [
       "   I tend to plan things very carefully.  \\\n",
       "0                                      1   \n",
       "1                                      1   \n",
       "2                                      2   \n",
       "3                                      2   \n",
       "4                                      2   \n",
       "\n",
       "   I sometimes have trouble controlling my spending.  \\\n",
       "0                                                  2   \n",
       "1                                                  3   \n",
       "2                                                  4   \n",
       "3                                                  4   \n",
       "4                                                  4   \n",
       "\n",
       "   I think it is important to purchase products that are made locally.  \\\n",
       "0                                                3.0                     \n",
       "1                                                3.0                     \n",
       "2                                                3.0                     \n",
       "3                                                1.0                     \n",
       "4                                                2.0                     \n",
       "\n",
       "   I carefully consider the health benefits of what I eat.  k_means  \n",
       "0                                                  2              3  \n",
       "1                                                  2              3  \n",
       "2                                                  2              1  \n",
       "3                                                  2              1  \n",
       "4                                                  3              1  "
      ]
     },
     "execution_count": 12,
     "metadata": {},
     "output_type": "execute_result"
    }
   ],
   "source": [
    "len(sticks_forcluster)\n",
    "sticks_forcluster.info()\n",
    "sticks_forcluster.head()"
   ]
  },
  {
   "cell_type": "code",
   "execution_count": 13,
   "id": "8d98b6bb",
   "metadata": {},
   "outputs": [],
   "source": [
    "# merge back to other data\n",
    "# Select the ones you want\n",
    "sticks['km.out.cluster'] = sticks_forcluster['k_means']"
   ]
  },
  {
   "cell_type": "code",
   "execution_count": 14,
   "id": "45a895bd",
   "metadata": {},
   "outputs": [
    {
     "data": {
      "text/html": [
       "<div>\n",
       "<style scoped>\n",
       "    .dataframe tbody tr th:only-of-type {\n",
       "        vertical-align: middle;\n",
       "    }\n",
       "\n",
       "    .dataframe tbody tr th {\n",
       "        vertical-align: top;\n",
       "    }\n",
       "\n",
       "    .dataframe thead th {\n",
       "        text-align: right;\n",
       "    }\n",
       "</style>\n",
       "<table border=\"1\" class=\"dataframe\">\n",
       "  <thead>\n",
       "    <tr style=\"text-align: right;\">\n",
       "      <th></th>\n",
       "      <th>Obs</th>\n",
       "      <th>Customer</th>\n",
       "      <th>I tend to plan things very carefully.</th>\n",
       "      <th>I sometimes have trouble controlling my spending.</th>\n",
       "      <th>I think it is important to purchase products that are made locally.</th>\n",
       "      <th>I carefully consider the health benefits of what I eat.</th>\n",
       "      <th>km.out.cluster</th>\n",
       "    </tr>\n",
       "  </thead>\n",
       "  <tbody>\n",
       "    <tr>\n",
       "      <th>0</th>\n",
       "      <td>2</td>\n",
       "      <td>0</td>\n",
       "      <td>1</td>\n",
       "      <td>2</td>\n",
       "      <td>3.0</td>\n",
       "      <td>2</td>\n",
       "      <td>3</td>\n",
       "    </tr>\n",
       "    <tr>\n",
       "      <th>1</th>\n",
       "      <td>3</td>\n",
       "      <td>0</td>\n",
       "      <td>1</td>\n",
       "      <td>3</td>\n",
       "      <td>3.0</td>\n",
       "      <td>2</td>\n",
       "      <td>3</td>\n",
       "    </tr>\n",
       "    <tr>\n",
       "      <th>2</th>\n",
       "      <td>4</td>\n",
       "      <td>0</td>\n",
       "      <td>2</td>\n",
       "      <td>4</td>\n",
       "      <td>3.0</td>\n",
       "      <td>2</td>\n",
       "      <td>1</td>\n",
       "    </tr>\n",
       "    <tr>\n",
       "      <th>3</th>\n",
       "      <td>5</td>\n",
       "      <td>0</td>\n",
       "      <td>2</td>\n",
       "      <td>4</td>\n",
       "      <td>1.0</td>\n",
       "      <td>2</td>\n",
       "      <td>1</td>\n",
       "    </tr>\n",
       "    <tr>\n",
       "      <th>4</th>\n",
       "      <td>10</td>\n",
       "      <td>0</td>\n",
       "      <td>2</td>\n",
       "      <td>4</td>\n",
       "      <td>2.0</td>\n",
       "      <td>3</td>\n",
       "      <td>1</td>\n",
       "    </tr>\n",
       "  </tbody>\n",
       "</table>\n",
       "</div>"
      ],
      "text/plain": [
       "   Obs  Customer  I tend to plan things very carefully.  \\\n",
       "0    2         0                                      1   \n",
       "1    3         0                                      1   \n",
       "2    4         0                                      2   \n",
       "3    5         0                                      2   \n",
       "4   10         0                                      2   \n",
       "\n",
       "   I sometimes have trouble controlling my spending.  \\\n",
       "0                                                  2   \n",
       "1                                                  3   \n",
       "2                                                  4   \n",
       "3                                                  4   \n",
       "4                                                  4   \n",
       "\n",
       "   I think it is important to purchase products that are made locally.  \\\n",
       "0                                                3.0                     \n",
       "1                                                3.0                     \n",
       "2                                                3.0                     \n",
       "3                                                1.0                     \n",
       "4                                                2.0                     \n",
       "\n",
       "   I carefully consider the health benefits of what I eat.  km.out.cluster  \n",
       "0                                                  2                     3  \n",
       "1                                                  2                     3  \n",
       "2                                                  2                     1  \n",
       "3                                                  2                     1  \n",
       "4                                                  3                     1  "
      ]
     },
     "execution_count": 14,
     "metadata": {},
     "output_type": "execute_result"
    }
   ],
   "source": [
    "sticks.head()"
   ]
  },
  {
   "cell_type": "code",
   "execution_count": 15,
   "id": "aee2c0f0",
   "metadata": {},
   "outputs": [
    {
     "data": {
      "text/plain": [
       "1    111\n",
       "4     96\n",
       "2     66\n",
       "0     62\n",
       "3     58\n",
       "dtype: int64"
      ]
     },
     "execution_count": 15,
     "metadata": {},
     "output_type": "execute_result"
    }
   ],
   "source": [
    "# how many ended up in each cluster\n",
    "pd.Series(kmeanModel.labels_).value_counts()"
   ]
  },
  {
   "cell_type": "code",
   "execution_count": 16,
   "id": "7e5efb1c",
   "metadata": {},
   "outputs": [
    {
     "name": "stdout",
     "output_type": "stream",
     "text": [
      "[[1.24193548 1.70967742 1.58064516 1.37096774]\n",
      " [2.2972973  3.45045045 1.83783784 1.8018018 ]\n",
      " [2.34848485 1.89393939 1.75757576 1.95454545]\n",
      " [2.01724138 2.68965517 2.65517241 2.87931034]\n",
      " [1.16666667 3.71875    1.79166667 1.375     ]]\n"
     ]
    }
   ],
   "source": [
    "# cluster centers\n",
    "print(kmeanModel.cluster_centers_)"
   ]
  },
  {
   "cell_type": "markdown",
   "id": "9d1fb4b9",
   "metadata": {},
   "source": [
    "cluster_centers_: ndarray of shape (n_clusters, n_features)\n",
    "\n",
    "So, each column is a feature (mean) and each row is the cluster"
   ]
  },
  {
   "cell_type": "code",
   "execution_count": 17,
   "id": "c77144aa",
   "metadata": {},
   "outputs": [
    {
     "data": {
      "text/html": [
       "<div>\n",
       "<style scoped>\n",
       "    .dataframe tbody tr th:only-of-type {\n",
       "        vertical-align: middle;\n",
       "    }\n",
       "\n",
       "    .dataframe tbody tr th {\n",
       "        vertical-align: top;\n",
       "    }\n",
       "\n",
       "    .dataframe thead th {\n",
       "        text-align: right;\n",
       "    }\n",
       "</style>\n",
       "<table border=\"1\" class=\"dataframe\">\n",
       "  <thead>\n",
       "    <tr style=\"text-align: right;\">\n",
       "      <th></th>\n",
       "      <th>0</th>\n",
       "      <th>1</th>\n",
       "      <th>2</th>\n",
       "      <th>3</th>\n",
       "    </tr>\n",
       "  </thead>\n",
       "  <tbody>\n",
       "    <tr>\n",
       "      <th>0</th>\n",
       "      <td>1.241935</td>\n",
       "      <td>1.709677</td>\n",
       "      <td>1.580645</td>\n",
       "      <td>1.370968</td>\n",
       "    </tr>\n",
       "    <tr>\n",
       "      <th>1</th>\n",
       "      <td>2.297297</td>\n",
       "      <td>3.450450</td>\n",
       "      <td>1.837838</td>\n",
       "      <td>1.801802</td>\n",
       "    </tr>\n",
       "    <tr>\n",
       "      <th>2</th>\n",
       "      <td>2.348485</td>\n",
       "      <td>1.893939</td>\n",
       "      <td>1.757576</td>\n",
       "      <td>1.954545</td>\n",
       "    </tr>\n",
       "    <tr>\n",
       "      <th>3</th>\n",
       "      <td>2.017241</td>\n",
       "      <td>2.689655</td>\n",
       "      <td>2.655172</td>\n",
       "      <td>2.879310</td>\n",
       "    </tr>\n",
       "    <tr>\n",
       "      <th>4</th>\n",
       "      <td>1.166667</td>\n",
       "      <td>3.718750</td>\n",
       "      <td>1.791667</td>\n",
       "      <td>1.375000</td>\n",
       "    </tr>\n",
       "  </tbody>\n",
       "</table>\n",
       "</div>"
      ],
      "text/plain": [
       "          0         1         2         3\n",
       "0  1.241935  1.709677  1.580645  1.370968\n",
       "1  2.297297  3.450450  1.837838  1.801802\n",
       "2  2.348485  1.893939  1.757576  1.954545\n",
       "3  2.017241  2.689655  2.655172  2.879310\n",
       "4  1.166667  3.718750  1.791667  1.375000"
      ]
     },
     "execution_count": 17,
     "metadata": {},
     "output_type": "execute_result"
    }
   ],
   "source": [
    "Survey_Data_Cluster_Centers = pd.DataFrame(kmeanModel.cluster_centers_)\n",
    "Survey_Data_Cluster_Centers.head()"
   ]
  },
  {
   "cell_type": "code",
   "execution_count": 18,
   "id": "24be25e3",
   "metadata": {},
   "outputs": [
    {
     "data": {
      "text/plain": [
       "array([3, 3, 1, 1, 1, 4, 3, 0, 3, 4, 1, 1, 4, 1, 4, 4, 2, 1, 3, 2, 4, 1,\n",
       "       1, 4, 4, 3, 1, 2, 1, 0, 1, 1, 4, 3, 0, 1, 4, 3, 4, 1, 1, 1, 3, 2,\n",
       "       3, 3, 2, 4, 2, 3, 3, 1, 0, 2, 3, 2, 2, 1, 3, 1, 0, 0, 2, 3, 1, 2,\n",
       "       1, 2, 3, 0, 1, 3, 1, 1, 4, 0, 2, 4, 3, 0, 4, 3, 4, 0, 2, 2, 0, 1,\n",
       "       1, 3, 1, 4, 0, 0, 3, 2, 3, 4, 1, 2, 0, 2, 3, 2, 2, 4, 3, 4, 1, 2,\n",
       "       0, 3, 1, 0, 1, 3, 4, 3, 3, 4, 3, 3, 1, 0, 3, 1, 0, 2, 2, 4, 0, 4,\n",
       "       1, 1, 4, 1, 3, 4, 4, 0, 3, 1, 1, 1, 4, 0, 1, 1, 1, 4, 2, 1, 1, 3,\n",
       "       3, 1, 1, 4, 2, 1, 2, 1, 4, 3, 1, 3, 1, 0, 0, 0, 3, 4, 2, 0, 4, 1,\n",
       "       4, 3, 0, 2, 1, 1, 3, 1, 3, 1, 0, 3, 4, 0, 1, 2, 1, 1, 4, 3, 4, 1,\n",
       "       1, 0, 1, 1, 4, 2, 1, 4, 4, 0, 2, 4, 1, 4, 3, 0, 0, 0, 2, 2, 4, 4,\n",
       "       4, 0, 2, 4, 1, 2, 1, 1, 1, 1, 2, 0, 1, 4, 2, 4, 1, 3, 4, 0, 1, 4,\n",
       "       1, 0, 4, 4, 0, 1, 1, 4, 3, 4, 1, 4, 4, 1, 2, 1, 4, 4, 4, 4, 4, 1,\n",
       "       3, 4, 4, 1, 0, 0, 0, 2, 4, 4, 1, 3, 4, 0, 4, 2, 2, 0, 0, 3, 2, 4,\n",
       "       3, 2, 1, 4, 4, 2, 1, 4, 0, 0, 1, 4, 3, 4, 1, 1, 2, 4, 1, 2, 0, 4,\n",
       "       1, 4, 4, 0, 2, 3, 1, 1, 4, 4, 0, 4, 1, 4, 1, 2, 1, 0, 2, 1, 4, 2,\n",
       "       2, 3, 0, 4, 2, 3, 4, 4, 2, 0, 2, 2, 0, 1, 3, 1, 0, 1, 2, 0, 4, 2,\n",
       "       0, 2, 2, 3, 1, 1, 1, 0, 1, 2, 0, 1, 4, 4, 1, 4, 4, 1, 2, 4, 0, 0,\n",
       "       1, 1, 4, 3, 0, 2, 1, 2, 1, 2, 0, 2, 4, 1, 1, 2, 4, 4, 4],\n",
       "      dtype=int32)"
      ]
     },
     "execution_count": 18,
     "metadata": {},
     "output_type": "execute_result"
    }
   ],
   "source": [
    "# cluster assignment\n",
    "kmeanModel.labels_"
   ]
  },
  {
   "cell_type": "code",
   "execution_count": 19,
   "id": "891edf21",
   "metadata": {},
   "outputs": [
    {
     "data": {
      "text/plain": [
       "395.05242661447494"
      ]
     },
     "execution_count": 19,
     "metadata": {},
     "output_type": "execute_result"
    }
   ],
   "source": [
    "# Sum of distances of observation to its closest cluster center\n",
    "kmeanModel.inertia_\n",
    "\n",
    "# that looks pretty close to R and SPSS"
   ]
  },
  {
   "cell_type": "code",
   "execution_count": 20,
   "id": "a926a53c",
   "metadata": {},
   "outputs": [
    {
     "data": {
      "text/plain": [
       "Text(0, 0.5, 'HEALTH BENEFITS IMPORTANT')"
      ]
     },
     "execution_count": 20,
     "metadata": {},
     "output_type": "execute_result"
    },
    {
     "data": {
      "image/png": "[encoded data removed]",
      "text/plain": [
       "<Figure size 576x432 with 1 Axes>"
      ]
     },
     "metadata": {
      "needs_background": "light"
     },
     "output_type": "display_data"
    }
   ],
   "source": [
    "# create a plot to make sense of this\n",
    "plt.figure(figsize=(8, 6))\n",
    "plt.scatter(sticks['I think it is important to purchase products that are made locally.'], \n",
    "            sticks['I carefully consider the health benefits of what I eat.'], \n",
    "            c=sticks['km.out.cluster'])\n",
    "plt.title(\"Kmeans\")\n",
    "plt.xlabel(\"LOCAL IMPORTANT\")\n",
    "plt.ylabel(\"HEALTH BENEFITS IMPORTANT\")"
   ]
  },
  {
   "cell_type": "code",
   "execution_count": 21,
   "id": "ed9b455b",
   "metadata": {},
   "outputs": [],
   "source": [
    "# remember mosiac plots\n",
    "from statsmodels.graphics.mosaicplot import mosaic"
   ]
  },
  {
   "cell_type": "code",
   "execution_count": 22,
   "id": "d01cfcc2",
   "metadata": {},
   "outputs": [
    {
     "data": {
      "image/png": "[encoded data removed]",
      "text/plain": [
       "<Figure size 432x288 with 3 Axes>"
      ]
     },
     "metadata": {
      "needs_background": "light"
     },
     "output_type": "display_data"
    }
   ],
   "source": [
    "# mosiac plot\n",
    "mosaic(sticks,['km.out.cluster','Customer'])\n",
    "plt.show()"
   ]
  },
  {
   "cell_type": "code",
   "execution_count": 25,
   "id": "cd272a52",
   "metadata": {},
   "outputs": [],
   "source": [
    "# export the result\n",
    "Survey_Data_Cluster_Centers.to_csv('Survey_Data_Cluster_Centers_Python.csv') "
   ]
  },
  {
   "cell_type": "code",
   "execution_count": 26,
   "id": "17e5804e",
   "metadata": {},
   "outputs": [],
   "source": [
    "# export data to csv\n",
    "sticks.to_csv('Survey_Data_Cluster_Python.csv') "
   ]
  },
  {
   "cell_type": "code",
   "execution_count": null,
   "id": "2b5076b9",
   "metadata": {},
   "outputs": [],
   "source": []
  }
 ],
 "metadata": {
  "kernelspec": {
   "display_name": "Python 3 (ipykernel)",
   "language": "python",
   "name": "python3"
  },
  "language_info": {
   "codemirror_mode": {
    "name": "ipython",
    "version": 3
   },
   "file_extension": ".py",
   "mimetype": "text/x-python",
   "name": "python",
   "nbconvert_exporter": "python",
   "pygments_lexer": "ipython3",
   "version": "3.9.7"
  }
 },
 "nbformat": 4,
 "nbformat_minor": 5
}
